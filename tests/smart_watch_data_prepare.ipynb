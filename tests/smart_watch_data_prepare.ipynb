{
 "cells": [
  {
   "cell_type": "code",
   "execution_count": 6,
   "metadata": {},
   "outputs": [],
   "source": [
    "# Prepare data\n",
    "\n",
    "import pandas as pd\n",
    "\n",
    "ori_filename = 'data/watch_data.csv'\n",
    "out_filename = 'data/watch_data_prepared.csv'\n",
    "df = pd.read_csv(ori_filename)\n",
    "\n",
    "data = []\n",
    "# iterate over rows\n",
    "for index, row in df.iterrows():\n",
    "    # make new rows using start_hour, start_minute, end_hour and end_minute\n",
    "    curr_hour = row['start_hour']\n",
    "    curr_min = row['start_min']\n",
    "    while True:\n",
    "        data.append({\n",
    "            'testtime': f\"2024-10-{row['day']:02d} {curr_hour:02d}:{curr_min:02d}\",\n",
    "            'sleep_mode': row['sleep_mode']\n",
    "        })\n",
    "        curr_min += 1\n",
    "        if curr_min == 60:\n",
    "            curr_min = 0\n",
    "            curr_hour += 1\n",
    "        if curr_hour == row['end_hour'] and curr_min == row['end_min']:\n",
    "            data.append({\n",
    "                'testtime': f\"2024-10-{row['day']:02d} {curr_hour:02d}:{curr_min:02d}\",\n",
    "                'sleep_mode': row['sleep_mode']\n",
    "            })\n",
    "            break\n",
    "        \n",
    "# create new dataframe\n",
    "df = pd.DataFrame(data)\n",
    "df.to_csv(out_filename, index=False)\n"
   ]
  }
 ],
 "metadata": {
  "kernelspec": {
   "display_name": "py312torch",
   "language": "python",
   "name": "python3"
  },
  "language_info": {
   "codemirror_mode": {
    "name": "ipython",
    "version": 3
   },
   "file_extension": ".py",
   "mimetype": "text/x-python",
   "name": "python",
   "nbconvert_exporter": "python",
   "pygments_lexer": "ipython3",
   "version": "3.12.7"
  }
 },
 "nbformat": 4,
 "nbformat_minor": 2
}
